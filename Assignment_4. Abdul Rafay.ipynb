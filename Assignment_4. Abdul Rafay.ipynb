{
 "cells": [
  {
   "cell_type": "markdown",
   "metadata": {},
   "source": [
    "# Q no 1: Make a list of numbers from 0 to 20 which is divisible by 2 using list comprehension"
   ]
  },
  {
   "cell_type": "code",
   "execution_count": 2,
   "metadata": {},
   "outputs": [
    {
     "name": "stdout",
     "output_type": "stream",
     "text": [
      "[0, 2, 4, 6, 8, 10, 12, 14, 16, 18, 20]\n"
     ]
    }
   ],
   "source": [
    "result_list=[]\n",
    "for i in range(0,21):\n",
    "    if i % 2 == 0:\n",
    "        result_list.append(i)\n",
    "print(result_list)"
   ]
  },
  {
   "cell_type": "code",
   "execution_count": null,
   "metadata": {},
   "outputs": [],
   "source": []
  },
  {
   "cell_type": "code",
   "execution_count": null,
   "metadata": {},
   "outputs": [],
   "source": []
  },
  {
   "cell_type": "markdown",
   "metadata": {},
   "source": [
    "# Q no 2 : Find all of the numbers from 1-1000 that are divisible by 7 by making a list using list comprehension and print it"
   ]
  },
  {
   "cell_type": "code",
   "execution_count": 3,
   "metadata": {},
   "outputs": [
    {
     "name": "stdout",
     "output_type": "stream",
     "text": [
      "[7, 14, 21, 28, 35, 42, 49, 56, 63, 70, 77, 84, 91, 98, 105, 112, 119, 126, 133, 140, 147, 154, 161, 168, 175, 182, 189, 196, 203, 210, 217, 224, 231, 238, 245, 252, 259, 266, 273, 280, 287, 294, 301, 308, 315, 322, 329, 336, 343, 350, 357, 364, 371, 378, 385, 392, 399, 406, 413, 420, 427, 434, 441, 448, 455, 462, 469, 476, 483, 490, 497, 504, 511, 518, 525, 532, 539, 546, 553, 560, 567, 574, 581, 588, 595, 602, 609, 616, 623, 630, 637, 644, 651, 658, 665, 672, 679, 686, 693, 700, 707, 714, 721, 728, 735, 742, 749, 756, 763, 770, 777, 784, 791, 798, 805, 812, 819, 826, 833, 840, 847, 854, 861, 868, 875, 882, 889, 896, 903, 910, 917, 924, 931, 938, 945, 952, 959, 966, 973, 980, 987, 994]\n"
     ]
    }
   ],
   "source": [
    "result_list=[]\n",
    "for i in range(1,1001):\n",
    "    if i % 7 == 0:\n",
    "        result_list.append(i)\n",
    "print(result_list)"
   ]
  },
  {
   "cell_type": "code",
   "execution_count": null,
   "metadata": {},
   "outputs": [],
   "source": []
  },
  {
   "cell_type": "markdown",
   "metadata": {},
   "source": [
    "# Q no 3: Write a script that draws a triangle as below:"
   ]
  },
  {
   "cell_type": "raw",
   "metadata": {},
   "source": [
    "*\n",
    "**\n",
    "***\n",
    "****\n",
    "*****\n",
    "******\n",
    "*******\n",
    "********\n",
    "*********\n",
    "**********\n",
    "***********\n",
    "************"
   ]
  },
  {
   "cell_type": "code",
   "execution_count": 4,
   "metadata": {},
   "outputs": [
    {
     "name": "stdout",
     "output_type": "stream",
     "text": [
      "*\n",
      "**\n",
      "***\n",
      "****\n",
      "*****\n",
      "******\n",
      "*******\n",
      "********\n",
      "*********\n",
      "**********\n",
      "***********\n",
      "************\n"
     ]
    }
   ],
   "source": [
    "for i in range(0, 12):\n",
    "    for j in range(0, i+1):\n",
    "        print(\"*\",end=\"\")\n",
    "    print()"
   ]
  },
  {
   "cell_type": "markdown",
   "metadata": {},
   "source": [
    "# Q no 4 : Write a script that draws a geometric shape as below:"
   ]
  },
  {
   "cell_type": "raw",
   "metadata": {},
   "source": [
    "*\n",
    "**\n",
    "***\n",
    "****\n",
    "*****\n",
    "******\n",
    "*******\n",
    "******\n",
    "*****\n",
    "****\n",
    "***\n",
    "**\n",
    "*"
   ]
  },
  {
   "cell_type": "code",
   "execution_count": 5,
   "metadata": {},
   "outputs": [
    {
     "name": "stdout",
     "output_type": "stream",
     "text": [
      "*\n",
      "**\n",
      "***\n",
      "****\n",
      "*****\n",
      "******\n",
      "*******\n",
      "******\n",
      "*****\n",
      "****\n",
      "***\n",
      "**\n",
      "*\n",
      "\n"
     ]
    }
   ],
   "source": [
    "for i in range(1,7+1):\n",
    "    for res in range(1,i+1):\n",
    "        print(\"*\",end=\"\")\n",
    "    print(\"\")\n",
    "for i in range(0,7):\n",
    "    for res1 in range(6,i,-1):\n",
    "        print(\"*\",end=\"\")\n",
    "    print(\"\")"
   ]
  },
  {
   "cell_type": "markdown",
   "metadata": {},
   "source": [
    "# Q no :5  A simple Python function to check \n",
    "# whether x is even or odd "
   ]
  },
  {
   "cell_type": "code",
   "execution_count": 6,
   "metadata": {},
   "outputs": [
    {
     "name": "stdout",
     "output_type": "stream",
     "text": [
      "enter the value: 1\n",
      "1 is Odd\n"
     ]
    }
   ],
   "source": [
    "def even_odd(user_input):\n",
    "\n",
    "    if user_input % 2 == 0:\n",
    "        print(user_input,\"is Even\")\n",
    "    else:\n",
    "        print(user_input,\"is Odd\")\n",
    "\n",
    "user_input = int(input(\"enter the value: \"))\n",
    "even_odd(user_input)"
   ]
  },
  {
   "cell_type": "code",
   "execution_count": null,
   "metadata": {},
   "outputs": [],
   "source": []
  },
  {
   "cell_type": "markdown",
   "metadata": {},
   "source": [
    "# Q no: 6 Define a function that can accept two strings as input and print the string with maximum length in console. If two strings have the same length, then the function should print al l strings line by line.\n",
    "\n",
    "Hints:\n",
    "\n",
    "Use len() function to get the length of a string\n"
   ]
  },
  {
   "cell_type": "code",
   "execution_count": 8,
   "metadata": {},
   "outputs": [
    {
     "name": "stdout",
     "output_type": "stream",
     "text": [
      "Enter String : Abdul\n",
      "Enter String : Rafay\n",
      "Both String Length are parallel or same Abdul Rafay\n"
     ]
    }
   ],
   "source": [
    "user_input1= str((input(\"Enter String : \")))\n",
    "user_input2= str((input(\"Enter String : \")))\n",
    "def chkLengthString(user_input1,user_input2):\n",
    "    if len(user_input1) > len(user_input2):\n",
    "        print(user_input1,\"Length is greater than\",user_input2)\n",
    "    elif len(user_input1) == len(user_input2):\n",
    "        print(\"Both String Length are parallel or same\",user_input1,user_input2)\n",
    "    else:\n",
    "        print(user_input1,\"Length is Less than\",user_input2)\n",
    "chkLengthString(user_input1,user_input2)"
   ]
  },
  {
   "cell_type": "code",
   "execution_count": 9,
   "metadata": {},
   "outputs": [
    {
     "name": "stdout",
     "output_type": "stream",
     "text": [
      "Enter String : Abdul\n",
      "Enter String : Farhan\n",
      "Abdul Length is Less than Farhan\n"
     ]
    }
   ],
   "source": [
    "user_input1= str((input(\"Enter String : \")))\n",
    "user_input2= str((input(\"Enter String : \")))\n",
    "def chkLengthString(user_input1,user_input2):\n",
    "    if len(user_input1) > len(user_input2):\n",
    "        print(user_input1,\"Length is greater than\",user_input2)\n",
    "    elif len(user_input1) == len(user_input2):\n",
    "        print(\"Both String Length are parallel or same\",user_input1,user_input2)\n",
    "    else:\n",
    "        print(user_input1,\"Length is Less than\",user_input2)\n",
    "chkLengthString(user_input1,user_input2)"
   ]
  },
  {
   "cell_type": "code",
   "execution_count": 11,
   "metadata": {},
   "outputs": [
    {
     "name": "stdout",
     "output_type": "stream",
     "text": [
      "Enter String : Ramiz\n",
      "Enter String : Rao\n",
      "Ramiz Length is greater than Rao\n"
     ]
    }
   ],
   "source": [
    "user_input1= str((input(\"Enter String : \")))\n",
    "user_input2= str((input(\"Enter String : \")))\n",
    "def chkLengthString(user_input1,user_input2):\n",
    "    if len(user_input1) > len(user_input2):\n",
    "        print(user_input1,\"Length is greater than\",user_input2)\n",
    "    elif len(user_input1) == len(user_input2):\n",
    "        print(\"Both String Length are parallel or same\",user_input1,user_input2)\n",
    "    else:\n",
    "        print(user_input1,\"Length is Less than\",user_input2)\n",
    "chkLengthString(user_input1,user_input2)"
   ]
  },
  {
   "cell_type": "markdown",
   "metadata": {},
   "source": [
    "# Q no  7:  Define a function that can accept an integer number as input and print the  \n",
    "It is an even number\" \n",
    "\n",
    "if the number is even,\n",
    "\n",
    "otherwise print \"It is an odd number\".\n",
    "\n",
    "\n",
    "\n",
    "\n",
    "Hints:\n",
    "\n",
    "Use % operator to check if a number is even or odd.\n"
   ]
  },
  {
   "cell_type": "code",
   "execution_count": 12,
   "metadata": {},
   "outputs": [
    {
     "name": "stdout",
     "output_type": "stream",
     "text": [
      "Enter Number: 25\n",
      "25 is a Odd Number\n"
     ]
    }
   ],
   "source": [
    "user_input=int(input(\"Enter Number: \"))\n",
    "def checkeven_odd(user_input):\n",
    "    if(user_input % 2 == 0):\n",
    "        print(user_input,\"is a Even Number\")\n",
    "    else:\n",
    "        print(user_input,\"is a Odd Number\")\n",
    "checkeven_odd(user_input)"
   ]
  },
  {
   "cell_type": "code",
   "execution_count": 13,
   "metadata": {},
   "outputs": [
    {
     "name": "stdout",
     "output_type": "stream",
     "text": [
      "Enter Number: 12\n",
      "12 is a Even Number\n"
     ]
    }
   ],
   "source": [
    "user_input=int(input(\"Enter Number: \"))\n",
    "def checkeven_odd(user_input):\n",
    "    if(user_input % 2 == 0):\n",
    "        print(user_input,\"is a Even Number\")\n",
    "    else:\n",
    "        print(user_input,\"is a Odd Number\")\n",
    "checkeven_odd(user_input)"
   ]
  },
  {
   "cell_type": "code",
   "execution_count": null,
   "metadata": {},
   "outputs": [],
   "source": []
  }
 ],
 "metadata": {
  "kernelspec": {
   "display_name": "Python 3",
   "language": "python",
   "name": "python3"
  },
  "language_info": {
   "codemirror_mode": {
    "name": "ipython",
    "version": 3
   },
   "file_extension": ".py",
   "mimetype": "text/x-python",
   "name": "python",
   "nbconvert_exporter": "python",
   "pygments_lexer": "ipython3",
   "version": "3.7.3"
  }
 },
 "nbformat": 4,
 "nbformat_minor": 2
}
